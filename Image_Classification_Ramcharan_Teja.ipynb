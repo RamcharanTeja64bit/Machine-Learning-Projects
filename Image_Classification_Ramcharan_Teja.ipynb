{
  "nbformat": 4,
  "nbformat_minor": 0,
  "metadata": {
    "colab": {
      "name": " Image Classification -Ramcharan Teja.ipynb",
      "provenance": [],
      "collapsed_sections": [],
      "include_colab_link": true
    },
    "kernelspec": {
      "name": "python3",
      "display_name": "Python 3"
    }
  },
  "cells": [
    {
      "cell_type": "markdown",
      "metadata": {
        "id": "view-in-github",
        "colab_type": "text"
      },
      "source": [
        "<a href=\"https://colab.research.google.com/github/RamcharanTeja64bit/Machine-Learning-Projects/blob/main/Image_Classification_Ramcharan_Teja.ipynb\" target=\"_parent\"><img src=\"https://colab.research.google.com/assets/colab-badge.svg\" alt=\"Open In Colab\"/></a>"
      ]
    },
    {
      "cell_type": "code",
      "metadata": {
        "id": "Wr9ckjfJTnQr",
        "colab": {
          "base_uri": "https://localhost:8080/"
        },
        "outputId": "451db1a8-eef9-4f79-cf5a-65ec4d2f77d4"
      },
      "source": [
        "!pip install ipython-autotime\n",
        "%load_ext autotime"
      ],
      "execution_count": 23,
      "outputs": [
        {
          "output_type": "stream",
          "text": [
            "Requirement already satisfied: ipython-autotime in /usr/local/lib/python3.6/dist-packages (0.2.0)\n",
            "Requirement already satisfied: ipython in /usr/local/lib/python3.6/dist-packages (from ipython-autotime) (5.5.0)\n",
            "Requirement already satisfied: pickleshare in /usr/local/lib/python3.6/dist-packages (from ipython->ipython-autotime) (0.7.5)\n",
            "Requirement already satisfied: prompt-toolkit<2.0.0,>=1.0.4 in /usr/local/lib/python3.6/dist-packages (from ipython->ipython-autotime) (1.0.18)\n",
            "Requirement already satisfied: pygments in /usr/local/lib/python3.6/dist-packages (from ipython->ipython-autotime) (2.6.1)\n",
            "Requirement already satisfied: decorator in /usr/local/lib/python3.6/dist-packages (from ipython->ipython-autotime) (4.4.2)\n",
            "Requirement already satisfied: pexpect; sys_platform != \"win32\" in /usr/local/lib/python3.6/dist-packages (from ipython->ipython-autotime) (4.8.0)\n",
            "Requirement already satisfied: simplegeneric>0.8 in /usr/local/lib/python3.6/dist-packages (from ipython->ipython-autotime) (0.8.1)\n",
            "Requirement already satisfied: setuptools>=18.5 in /usr/local/lib/python3.6/dist-packages (from ipython->ipython-autotime) (50.3.2)\n",
            "Requirement already satisfied: traitlets>=4.2 in /usr/local/lib/python3.6/dist-packages (from ipython->ipython-autotime) (4.3.3)\n",
            "Requirement already satisfied: six>=1.9.0 in /usr/local/lib/python3.6/dist-packages (from prompt-toolkit<2.0.0,>=1.0.4->ipython->ipython-autotime) (1.15.0)\n",
            "Requirement already satisfied: wcwidth in /usr/local/lib/python3.6/dist-packages (from prompt-toolkit<2.0.0,>=1.0.4->ipython->ipython-autotime) (0.2.5)\n",
            "Requirement already satisfied: ptyprocess>=0.5 in /usr/local/lib/python3.6/dist-packages (from pexpect; sys_platform != \"win32\"->ipython->ipython-autotime) (0.6.0)\n",
            "Requirement already satisfied: ipython-genutils in /usr/local/lib/python3.6/dist-packages (from traitlets>=4.2->ipython->ipython-autotime) (0.2.0)\n",
            "The autotime extension is already loaded. To reload it, use:\n",
            "  %reload_ext autotime\n",
            "time: 2.44 s\n"
          ],
          "name": "stdout"
        }
      ]
    },
    {
      "cell_type": "code",
      "metadata": {
        "id": "ArmLiPAjQ_o8",
        "colab": {
          "base_uri": "https://localhost:8080/"
        },
        "outputId": "01a22bfc-72e3-4fdf-da3f-4c7ae4438614"
      },
      "source": [
        "!pip install bing-image-downloader"
      ],
      "execution_count": 25,
      "outputs": [
        {
          "output_type": "stream",
          "text": [
            "Requirement already satisfied: bing-image-downloader in /usr/local/lib/python3.6/dist-packages (1.0.4)\n",
            "time: 2.44 s\n"
          ],
          "name": "stdout"
        }
      ]
    },
    {
      "cell_type": "code",
      "metadata": {
        "id": "MlcL7vZ_RNwB",
        "colab": {
          "base_uri": "https://localhost:8080/"
        },
        "outputId": "3ee284e6-7e74-4b9a-e286-ee58d55559e4"
      },
      "source": [
        "!mkdir images"
      ],
      "execution_count": 26,
      "outputs": [
        {
          "output_type": "stream",
          "text": [
            "mkdir: cannot create directory ‘images’: File exists\n",
            "time: 118 ms\n"
          ],
          "name": "stdout"
        }
      ]
    },
    {
      "cell_type": "code",
      "metadata": {
        "id": "ofOE9eVePyA_",
        "colab": {
          "base_uri": "https://localhost:8080/"
        },
        "outputId": "c1190d22-57fd-423c-e842-0fca57bfd578"
      },
      "source": [
        "from bing_image_downloader import downloader\n",
        "downloader.download(\"Ironaman\",limit=30,output_dir='images',\n",
        "                    adult_filter_off=True)\n",
        "downloader.download(\"Spiderman\",limit=30,output_dir='images',\n",
        "                    adult_filter_off=True)\n",
        "downloader.download(\"Hulk\",limit=30,output_dir='images',\n",
        "                    adult_filter_off=True)"
      ],
      "execution_count": 27,
      "outputs": [
        {
          "output_type": "stream",
          "text": [
            "\n",
            "\n",
            "[!!]Indexing page: 1\n",
            "\n",
            "[%] Indexed 13 Images on Page 1.\n",
            "\n",
            "===============================================\n",
            "\n",
            "[%] Downloading Image #1 from http://icanbecreative.com/res/IronMan2/iron_man_2_imax_poster-normal.jpg\n",
            "[%] File Downloaded !\n",
            "\n",
            "[%] Downloading Image #2 from http://www.collectiondx.com/files/DYNAMITE_ACTION_TETSUJIN2-8_TAIYOUNOSHISHA_12_17CM_JAN2013_EVOLUTIONTOY_11340.jpg\n",
            "[Error]Invalid image, not saving http://www.collectiondx.com/files/DYNAMITE_ACTION_TETSUJIN2-8_TAIYOUNOSHISHA_12_17CM_JAN2013_EVOLUTIONTOY_11340.jpg\n",
            "\n",
            "[!] Issue getting: http://www.collectiondx.com/files/DYNAMITE_ACTION_TETSUJIN2-8_TAIYOUNOSHISHA_12_17CM_JAN2013_EVOLUTIONTOY_11340.jpg\n",
            "[!] Error:: No active exception to reraise\n",
            "[%] Downloading Image #2 from https://wallpapersite.com/images/wallpapers/spider-man-homecoming-2560x1440-iron-man-hd-4k-8k-7851.jpg\n",
            "[!] Issue getting: https://wallpapersite.com/images/wallpapers/spider-man-homecoming-2560x1440-iron-man-hd-4k-8k-7851.jpg\n",
            "[!] Error:: HTTP Error 404: Not Found\n",
            "[%] Downloading Image #2 from https://s1.cdn.autoevolution.com/images/news/gallery/iron-man-2-motorcycle-suit-now-available_2.jpg\n",
            "[%] File Downloaded !\n",
            "\n",
            "[%] Downloading Image #3 from https://wallpapersite.com/images/wallpapers/avengers-endgame-2880x1800-final-battle-4k-17992.jpg\n",
            "[!] Issue getting: https://wallpapersite.com/images/wallpapers/avengers-endgame-2880x1800-final-battle-4k-17992.jpg\n",
            "[!] Error:: HTTP Error 404: Not Found\n",
            "[%] Downloading Image #3 from https://artistjourney.files.wordpress.com/2012/06/samflegal_zombie_thor2.jpg?w=774\n",
            "[%] File Downloaded !\n",
            "\n",
            "[%] Downloading Image #4 from http://www.thenology.com/wp-content/uploads/2014/09/iron-man-movie-mobile-wallpaper-1080x1920-8338-3046301658.jpg\n",
            "[%] File Downloaded !\n",
            "\n",
            "[%] Downloading Image #5 from https://i.pinimg.com/736x/1e/12/38/1e1238a41dc69ef8c55ff5289e9d6829.jpg\n",
            "[%] File Downloaded !\n",
            "\n",
            "[%] Downloading Image #6 from https://www.kotobukiya.co.jp/wp-content/uploads/2015/09/MK192_IRONMAN_MARK45_u05.jpg\n",
            "[%] File Downloaded !\n",
            "\n",
            "[%] Downloading Image #7 from https://d.ibtimes.co.uk/en/full/1551954/iron-man-comics.jpg?w=400\n",
            "[%] File Downloaded !\n",
            "\n",
            "[%] Downloading Image #8 from https://animatedtimes.com/wp-content/uploads/2018/01/no-13.jpeg\n",
            "[%] File Downloaded !\n",
            "\n",
            "[%] Downloading Image #9 from https://946e583539399c301dc7-100ffa5b52865b8ec92e09e9de9f4d02.ssl.cf2.rackcdn.com/17363/3330468.jpg\n",
            "[%] File Downloaded !\n",
            "\n",
            "[%] Downloading Image #10 from https://cdn.instructables.com/FJK/TL6R/FN4A5GK2/FJKTL6RFN4A5GK2.LARGE.jpg\n",
            "[!] Issue getting: https://cdn.instructables.com/FJK/TL6R/FN4A5GK2/FJKTL6RFN4A5GK2.LARGE.jpg\n",
            "[!] Error:: HTTP Error 403: Forbidden\n",
            "\n",
            "\n",
            "[!!]Indexing page: 2\n",
            "\n",
            "[%] Indexed 13 Images on Page 2.\n",
            "\n",
            "===============================================\n",
            "\n",
            "[%] Downloading Image #10 from http://icanbecreative.com/res/IronMan2/iron_man_2_imax_poster-normal.jpg\n",
            "[%] File Downloaded !\n",
            "\n",
            "[%] Downloading Image #11 from http://www.collectiondx.com/files/DYNAMITE_ACTION_TETSUJIN2-8_TAIYOUNOSHISHA_12_17CM_JAN2013_EVOLUTIONTOY_11340.jpg\n",
            "[Error]Invalid image, not saving http://www.collectiondx.com/files/DYNAMITE_ACTION_TETSUJIN2-8_TAIYOUNOSHISHA_12_17CM_JAN2013_EVOLUTIONTOY_11340.jpg\n",
            "\n",
            "[!] Issue getting: http://www.collectiondx.com/files/DYNAMITE_ACTION_TETSUJIN2-8_TAIYOUNOSHISHA_12_17CM_JAN2013_EVOLUTIONTOY_11340.jpg\n",
            "[!] Error:: No active exception to reraise\n",
            "[%] Downloading Image #11 from https://wallpapersite.com/images/wallpapers/spider-man-homecoming-2560x1440-iron-man-hd-4k-8k-7851.jpg\n",
            "[!] Issue getting: https://wallpapersite.com/images/wallpapers/spider-man-homecoming-2560x1440-iron-man-hd-4k-8k-7851.jpg\n",
            "[!] Error:: HTTP Error 404: Not Found\n",
            "[%] Downloading Image #11 from https://s1.cdn.autoevolution.com/images/news/gallery/iron-man-2-motorcycle-suit-now-available_2.jpg\n",
            "[%] File Downloaded !\n",
            "\n",
            "[%] Downloading Image #12 from https://wallpapersite.com/images/wallpapers/avengers-endgame-2880x1800-final-battle-4k-17992.jpg\n",
            "[!] Issue getting: https://wallpapersite.com/images/wallpapers/avengers-endgame-2880x1800-final-battle-4k-17992.jpg\n",
            "[!] Error:: HTTP Error 404: Not Found\n",
            "[%] Downloading Image #12 from https://artistjourney.files.wordpress.com/2012/06/samflegal_zombie_thor2.jpg?w=774\n",
            "[%] File Downloaded !\n",
            "\n",
            "[%] Downloading Image #13 from http://www.thenology.com/wp-content/uploads/2014/09/iron-man-movie-mobile-wallpaper-1080x1920-8338-3046301658.jpg\n",
            "[%] File Downloaded !\n",
            "\n",
            "[%] Downloading Image #14 from https://i.pinimg.com/736x/1e/12/38/1e1238a41dc69ef8c55ff5289e9d6829.jpg\n",
            "[%] File Downloaded !\n",
            "\n",
            "[%] Downloading Image #15 from https://www.kotobukiya.co.jp/wp-content/uploads/2015/09/MK192_IRONMAN_MARK45_u05.jpg\n",
            "[%] File Downloaded !\n",
            "\n",
            "[%] Downloading Image #16 from https://d.ibtimes.co.uk/en/full/1551954/iron-man-comics.jpg?w=400\n",
            "[%] File Downloaded !\n",
            "\n",
            "[%] Downloading Image #17 from https://animatedtimes.com/wp-content/uploads/2018/01/no-13.jpeg\n",
            "[%] File Downloaded !\n",
            "\n",
            "[%] Downloading Image #18 from https://946e583539399c301dc7-100ffa5b52865b8ec92e09e9de9f4d02.ssl.cf2.rackcdn.com/17363/3330468.jpg\n",
            "[%] File Downloaded !\n",
            "\n",
            "[%] Downloading Image #19 from https://cdn.instructables.com/FJK/TL6R/FN4A5GK2/FJKTL6RFN4A5GK2.LARGE.jpg\n",
            "[!] Issue getting: https://cdn.instructables.com/FJK/TL6R/FN4A5GK2/FJKTL6RFN4A5GK2.LARGE.jpg\n",
            "[!] Error:: HTTP Error 403: Forbidden\n",
            "\n",
            "\n",
            "[!!]Indexing page: 3\n",
            "\n",
            "[%] Indexed 7 Images on Page 3.\n",
            "\n",
            "===============================================\n",
            "\n",
            "[%] Downloading Image #19 from http://www.pedalroom.com/p/1989-centurion-dave-scott-ironman-expert-6439_2.jpg\n",
            "[%] File Downloaded !\n",
            "\n",
            "[%] Downloading Image #20 from http://www.hdwallpapers.in/download/amazing_iron_man_2-1920x1080.jpg\n",
            "[%] File Downloaded !\n",
            "\n",
            "[%] Downloading Image #21 from http://www.gunjap.net/site/wp-content/uploads/2014/07/3134.jpg\n",
            "[%] File Downloaded !\n",
            "\n",
            "[%] Downloading Image #22 from https://figuresinstock.com/wp-content/uploads/2019/04/57204516_582215592261777_3460842831315206144_n.jpg\n",
            "[%] File Downloaded !\n",
            "\n",
            "[%] Downloading Image #23 from https://wallpapersite.com/images/wallpapers/iron-man-1440x2560-hd-6137.jpg\n",
            "[!] Issue getting: https://wallpapersite.com/images/wallpapers/iron-man-1440x2560-hd-6137.jpg\n",
            "[!] Error:: HTTP Error 404: Not Found\n",
            "[%] Downloading Image #23 from http://marvellegends.net/Movies/IME1/IronMan05.jpg\n",
            "[%] File Downloaded !\n",
            "\n",
            "[%] Downloading Image #24 from https://wallpapersite.com/images/wallpapers/iron-man-1440x2560-suit-arc-chest-light-hd-4022.jpg\n",
            "[!] Issue getting: https://wallpapersite.com/images/wallpapers/iron-man-1440x2560-suit-arc-chest-light-hd-4022.jpg\n",
            "[!] Error:: HTTP Error 404: Not Found\n",
            "\n",
            "\n",
            "[!!]Indexing page: 4\n",
            "\n",
            "[%] Indexed 11 Images on Page 4.\n",
            "\n",
            "===============================================\n",
            "\n",
            "[%] Downloading Image #24 from http://www.thenology.com/wp-content/uploads/2014/09/iron-man-movie-mobile-wallpaper-1080x1920-8338-3046301658.jpg\n",
            "[%] File Downloaded !\n",
            "\n",
            "[%] Downloading Image #25 from https://cdn.instructables.com/FJK/TL6R/FN4A5GK2/FJKTL6RFN4A5GK2.LARGE.jpg\n",
            "[!] Issue getting: https://cdn.instructables.com/FJK/TL6R/FN4A5GK2/FJKTL6RFN4A5GK2.LARGE.jpg\n",
            "[!] Error:: HTTP Error 403: Forbidden\n",
            "[%] Downloading Image #25 from https://d.ibtimes.co.uk/en/full/1551954/iron-man-comics.jpg?w=400\n",
            "[%] File Downloaded !\n",
            "\n",
            "[%] Downloading Image #26 from https://i.pinimg.com/736x/1e/12/38/1e1238a41dc69ef8c55ff5289e9d6829.jpg\n",
            "[%] File Downloaded !\n",
            "\n",
            "[%] Downloading Image #27 from https://www.kotobukiya.co.jp/wp-content/uploads/2015/09/MK192_IRONMAN_MARK45_u05.jpg\n",
            "[%] File Downloaded !\n",
            "\n",
            "[%] Downloading Image #28 from https://946e583539399c301dc7-100ffa5b52865b8ec92e09e9de9f4d02.ssl.cf2.rackcdn.com/17363/3330468.jpg\n",
            "[%] File Downloaded !\n",
            "\n",
            "[%] Downloading Image #29 from https://s1.cdn.autoevolution.com/images/news/gallery/iron-man-2-motorcycle-suit-now-available_2.jpg\n",
            "[%] File Downloaded !\n",
            "\n",
            "[%] Downloading Image #30 from http://www.collectiondx.com/files/DYNAMITE_ACTION_TETSUJIN2-8_TAIYOUNOSHISHA_12_17CM_JAN2013_EVOLUTIONTOY_11340.jpg\n",
            "[Error]Invalid image, not saving http://www.collectiondx.com/files/DYNAMITE_ACTION_TETSUJIN2-8_TAIYOUNOSHISHA_12_17CM_JAN2013_EVOLUTIONTOY_11340.jpg\n",
            "\n",
            "[!] Issue getting: http://www.collectiondx.com/files/DYNAMITE_ACTION_TETSUJIN2-8_TAIYOUNOSHISHA_12_17CM_JAN2013_EVOLUTIONTOY_11340.jpg\n",
            "[!] Error:: No active exception to reraise\n",
            "[%] Downloading Image #30 from https://animatedtimes.com/wp-content/uploads/2018/01/no-13.jpeg\n",
            "[%] File Downloaded !\n",
            "\n",
            "\n",
            "\n",
            "[%] Done. Downloaded 30 images.\n",
            "\n",
            "===============================================\n",
            "\n",
            "\n",
            "\n",
            "[!!]Indexing page: 1\n",
            "\n",
            "[%] Indexed 13 Images on Page 1.\n",
            "\n",
            "===============================================\n",
            "\n",
            "[%] Downloading Image #1 from http://www.hdwallpapers.in/download/spiderman-1920x1080.jpg\n",
            "[%] File Downloaded !\n",
            "\n",
            "[%] Downloading Image #2 from https://wallpapersite.com/images/wallpapers/spider-man-1080x1920-hd-4k-8582.jpg\n",
            "[!] Issue getting: https://wallpapersite.com/images/wallpapers/spider-man-1080x1920-hd-4k-8582.jpg\n",
            "[!] Error:: HTTP Error 404: Not Found\n",
            "[%] Downloading Image #2 from https://wallpapersite.com/images/wallpapers/spider-man-1440x2560-playstation-4-2018-4k-13334.jpg\n",
            "[!] Issue getting: https://wallpapersite.com/images/wallpapers/spider-man-1440x2560-playstation-4-2018-4k-13334.jpg\n",
            "[!] Error:: HTTP Error 404: Not Found\n",
            "[%] Downloading Image #2 from https://wallpapersite.com/images/wallpapers/spider-man-1080x1920-marvel-comics-playstation-4-2018-4k-13032.jpg\n",
            "[!] Issue getting: https://wallpapersite.com/images/wallpapers/spider-man-1080x1920-marvel-comics-playstation-4-2018-4k-13032.jpg\n",
            "[!] Error:: HTTP Error 404: Not Found\n",
            "[%] Downloading Image #2 from http://www.histoiredeperles.com/images/perle-hama-spiderman_4.jpg\n",
            "[%] File Downloaded !\n",
            "\n",
            "[%] Downloading Image #3 from https://wallpapersite.com/images/wallpapers/spider-man-homecoming-1440x2560-4k-7628.jpg\n",
            "[!] Issue getting: https://wallpapersite.com/images/wallpapers/spider-man-homecoming-1440x2560-4k-7628.jpg\n",
            "[!] Error:: HTTP Error 404: Not Found\n",
            "[%] Downloading Image #3 from https://www.hdwallpapers.in/download/spider_man_far_from_home_4k_5k-540x960.jpg\n",
            "[%] File Downloaded !\n",
            "\n",
            "[%] Downloading Image #4 from https://wallpapersite.com/images/wallpapers/spider-man-homecoming-1920x1200-iron-man-hd-11114.jpg\n",
            "[!] Issue getting: https://wallpapersite.com/images/wallpapers/spider-man-homecoming-1920x1200-iron-man-hd-11114.jpg\n",
            "[!] Error:: HTTP Error 404: Not Found\n",
            "[%] Downloading Image #4 from https://wallpapersite.com/images/wallpapers/spider-man-1440x2560-ps4-hd-4k-3125.jpg\n",
            "[!] Issue getting: https://wallpapersite.com/images/wallpapers/spider-man-1440x2560-ps4-hd-4k-3125.jpg\n",
            "[!] Error:: HTTP Error 404: Not Found\n",
            "[%] Downloading Image #4 from https://wallpapersite.com/images/wallpapers/iron-spider-640x960-spider-man-hd-16424.jpg\n",
            "[!] Issue getting: https://wallpapersite.com/images/wallpapers/iron-spider-640x960-spider-man-hd-16424.jpg\n",
            "[!] Error:: HTTP Error 404: Not Found\n",
            "[%] Downloading Image #4 from https://wallpapersite.com/images/wallpapers/spider-man-homecoming-2560x1440-vulture-2017-4k-8365.jpg\n",
            "[!] Issue getting: https://wallpapersite.com/images/wallpapers/spider-man-homecoming-2560x1440-vulture-2017-4k-8365.jpg\n",
            "[!] Error:: HTTP Error 404: Not Found\n",
            "[%] Downloading Image #4 from https://wallpapersite.com/images/wallpapers/spider-man-1080x1920-ps4-hd-4k-3125.jpg\n",
            "[!] Issue getting: https://wallpapersite.com/images/wallpapers/spider-man-1080x1920-ps4-hd-4k-3125.jpg\n",
            "[!] Error:: HTTP Error 404: Not Found\n",
            "[%] Downloading Image #4 from http://www.newdvdreleasedates.com/images/posters/large/the-amazing-spider-man-2-2014-01.jpg\n",
            "[%] File Downloaded !\n",
            "\n",
            "\n",
            "\n",
            "[!!]Indexing page: 2\n",
            "\n",
            "[%] Indexed 13 Images on Page 2.\n",
            "\n",
            "===============================================\n",
            "\n",
            "[%] Downloading Image #5 from http://www.hdwallpapers.in/download/spiderman-1920x1080.jpg\n",
            "[%] File Downloaded !\n",
            "\n",
            "[%] Downloading Image #6 from https://wallpapersite.com/images/wallpapers/spider-man-1080x1920-hd-4k-8582.jpg\n",
            "[!] Issue getting: https://wallpapersite.com/images/wallpapers/spider-man-1080x1920-hd-4k-8582.jpg\n",
            "[!] Error:: HTTP Error 404: Not Found\n",
            "[%] Downloading Image #6 from https://wallpapersite.com/images/wallpapers/spider-man-1440x2560-playstation-4-2018-4k-13334.jpg\n",
            "[!] Issue getting: https://wallpapersite.com/images/wallpapers/spider-man-1440x2560-playstation-4-2018-4k-13334.jpg\n",
            "[!] Error:: HTTP Error 404: Not Found\n",
            "[%] Downloading Image #6 from https://wallpapersite.com/images/wallpapers/spider-man-1080x1920-marvel-comics-playstation-4-2018-4k-13032.jpg\n",
            "[!] Issue getting: https://wallpapersite.com/images/wallpapers/spider-man-1080x1920-marvel-comics-playstation-4-2018-4k-13032.jpg\n",
            "[!] Error:: HTTP Error 404: Not Found\n",
            "[%] Downloading Image #6 from http://www.histoiredeperles.com/images/perle-hama-spiderman_4.jpg\n",
            "[%] File Downloaded !\n",
            "\n",
            "[%] Downloading Image #7 from https://wallpapersite.com/images/wallpapers/spider-man-homecoming-1440x2560-4k-7628.jpg\n",
            "[!] Issue getting: https://wallpapersite.com/images/wallpapers/spider-man-homecoming-1440x2560-4k-7628.jpg\n",
            "[!] Error:: HTTP Error 404: Not Found\n",
            "[%] Downloading Image #7 from https://www.hdwallpapers.in/download/spider_man_far_from_home_4k_5k-540x960.jpg\n",
            "[%] File Downloaded !\n",
            "\n",
            "[%] Downloading Image #8 from https://wallpapersite.com/images/wallpapers/spider-man-homecoming-1920x1200-iron-man-hd-11114.jpg\n",
            "[!] Issue getting: https://wallpapersite.com/images/wallpapers/spider-man-homecoming-1920x1200-iron-man-hd-11114.jpg\n",
            "[!] Error:: HTTP Error 404: Not Found\n",
            "[%] Downloading Image #8 from https://wallpapersite.com/images/wallpapers/spider-man-1440x2560-ps4-hd-4k-3125.jpg\n",
            "[!] Issue getting: https://wallpapersite.com/images/wallpapers/spider-man-1440x2560-ps4-hd-4k-3125.jpg\n",
            "[!] Error:: HTTP Error 404: Not Found\n",
            "[%] Downloading Image #8 from https://wallpapersite.com/images/wallpapers/iron-spider-640x960-spider-man-hd-16424.jpg\n",
            "[!] Issue getting: https://wallpapersite.com/images/wallpapers/iron-spider-640x960-spider-man-hd-16424.jpg\n",
            "[!] Error:: HTTP Error 404: Not Found\n",
            "[%] Downloading Image #8 from https://wallpapersite.com/images/wallpapers/spider-man-homecoming-2560x1440-vulture-2017-4k-8365.jpg\n",
            "[!] Issue getting: https://wallpapersite.com/images/wallpapers/spider-man-homecoming-2560x1440-vulture-2017-4k-8365.jpg\n",
            "[!] Error:: HTTP Error 404: Not Found\n",
            "[%] Downloading Image #8 from https://wallpapersite.com/images/wallpapers/spider-man-1080x1920-ps4-hd-4k-3125.jpg\n",
            "[!] Issue getting: https://wallpapersite.com/images/wallpapers/spider-man-1080x1920-ps4-hd-4k-3125.jpg\n",
            "[!] Error:: HTTP Error 404: Not Found\n",
            "[%] Downloading Image #8 from http://www.newdvdreleasedates.com/images/posters/large/the-amazing-spider-man-2-2014-01.jpg\n",
            "[%] File Downloaded !\n",
            "\n",
            "\n",
            "\n",
            "[!!]Indexing page: 3\n",
            "\n",
            "[%] Indexed 12 Images on Page 3.\n",
            "\n",
            "===============================================\n",
            "\n",
            "[%] Downloading Image #9 from https://wallpapersite.com/images/wallpapers/spider-man-1440x2560-playstation-4-2018-4k-13334.jpg\n",
            "[!] Issue getting: https://wallpapersite.com/images/wallpapers/spider-man-1440x2560-playstation-4-2018-4k-13334.jpg\n",
            "[!] Error:: HTTP Error 404: Not Found\n",
            "[%] Downloading Image #9 from https://www.hdwallpapers.in/download/spider_man_far_from_home_4k_5k-540x960.jpg\n",
            "[%] File Downloaded !\n",
            "\n",
            "[%] Downloading Image #10 from https://wallpapersite.com/images/wallpapers/spider-man-homecoming-1440x2560-4k-7628.jpg\n",
            "[!] Issue getting: https://wallpapersite.com/images/wallpapers/spider-man-homecoming-1440x2560-4k-7628.jpg\n",
            "[!] Error:: HTTP Error 404: Not Found\n",
            "[%] Downloading Image #10 from http://www.histoiredeperles.com/images/perle-hama-spiderman_4.jpg\n",
            "[%] File Downloaded !\n",
            "\n",
            "[%] Downloading Image #11 from https://wallpapersite.com/images/wallpapers/spider-man-homecoming-1920x1200-iron-man-hd-11114.jpg\n",
            "[!] Issue getting: https://wallpapersite.com/images/wallpapers/spider-man-homecoming-1920x1200-iron-man-hd-11114.jpg\n",
            "[!] Error:: HTTP Error 404: Not Found\n",
            "[%] Downloading Image #11 from https://wallpapersite.com/images/wallpapers/spider-man-1080x1920-marvel-comics-playstation-4-2018-4k-13032.jpg\n",
            "[!] Issue getting: https://wallpapersite.com/images/wallpapers/spider-man-1080x1920-marvel-comics-playstation-4-2018-4k-13032.jpg\n",
            "[!] Error:: HTTP Error 404: Not Found\n",
            "[%] Downloading Image #11 from https://wallpapersite.com/images/wallpapers/iron-spider-640x960-spider-man-hd-16424.jpg\n",
            "[!] Issue getting: https://wallpapersite.com/images/wallpapers/iron-spider-640x960-spider-man-hd-16424.jpg\n",
            "[!] Error:: HTTP Error 404: Not Found\n",
            "[%] Downloading Image #11 from https://wallpapersite.com/images/wallpapers/spider-man-homecoming-2560x1440-vulture-2017-4k-8365.jpg\n",
            "[!] Issue getting: https://wallpapersite.com/images/wallpapers/spider-man-homecoming-2560x1440-vulture-2017-4k-8365.jpg\n",
            "[!] Error:: HTTP Error 404: Not Found\n",
            "[%] Downloading Image #11 from https://wallpapersite.com/images/wallpapers/spider-man-1440x2560-ps4-hd-4k-3125.jpg\n",
            "[!] Issue getting: https://wallpapersite.com/images/wallpapers/spider-man-1440x2560-ps4-hd-4k-3125.jpg\n",
            "[!] Error:: HTTP Error 404: Not Found\n",
            "[%] Downloading Image #11 from http://www.newdvdreleasedates.com/images/posters/large/the-amazing-spider-man-2-2014-01.jpg\n",
            "[%] File Downloaded !\n",
            "\n",
            "[%] Downloading Image #12 from https://wallpapersite.com/images/wallpapers/spider-man-1080x1920-ps4-hd-4k-3125.jpg\n",
            "[!] Issue getting: https://wallpapersite.com/images/wallpapers/spider-man-1080x1920-ps4-hd-4k-3125.jpg\n",
            "[!] Error:: HTTP Error 404: Not Found\n",
            "[%] Downloading Image #12 from https://wallpapersite.com/images/wallpapers/spider-man-1080x1920-hd-4k-8582.jpg\n",
            "[!] Issue getting: https://wallpapersite.com/images/wallpapers/spider-man-1080x1920-hd-4k-8582.jpg\n",
            "[!] Error:: HTTP Error 404: Not Found\n",
            "\n",
            "\n",
            "[!!]Indexing page: 4\n",
            "\n",
            "[%] Indexed 11 Images on Page 4.\n",
            "\n",
            "===============================================\n",
            "\n",
            "[%] Downloading Image #12 from https://wallpapersite.com/images/wallpapers/spider-man-homecoming-1440x2560-4k-7628.jpg\n",
            "[!] Issue getting: https://wallpapersite.com/images/wallpapers/spider-man-homecoming-1440x2560-4k-7628.jpg\n",
            "[!] Error:: HTTP Error 404: Not Found\n",
            "[%] Downloading Image #12 from https://www.hdwallpapers.in/download/spider_man_far_from_home_4k_5k-540x960.jpg\n",
            "[%] File Downloaded !\n",
            "\n",
            "[%] Downloading Image #13 from https://wallpapersite.com/images/wallpapers/spider-man-homecoming-1920x1200-iron-man-hd-11114.jpg\n",
            "[!] Issue getting: https://wallpapersite.com/images/wallpapers/spider-man-homecoming-1920x1200-iron-man-hd-11114.jpg\n",
            "[!] Error:: HTTP Error 404: Not Found\n",
            "[%] Downloading Image #13 from https://wallpapersite.com/images/wallpapers/spider-man-1080x1920-marvel-comics-playstation-4-2018-4k-13032.jpg\n",
            "[!] Issue getting: https://wallpapersite.com/images/wallpapers/spider-man-1080x1920-marvel-comics-playstation-4-2018-4k-13032.jpg\n",
            "[!] Error:: HTTP Error 404: Not Found\n",
            "[%] Downloading Image #13 from http://www.histoiredeperles.com/images/perle-hama-spiderman_4.jpg\n",
            "[%] File Downloaded !\n",
            "\n",
            "[%] Downloading Image #14 from https://wallpapersite.com/images/wallpapers/spider-man-homecoming-2560x1440-vulture-2017-4k-8365.jpg\n",
            "[!] Issue getting: https://wallpapersite.com/images/wallpapers/spider-man-homecoming-2560x1440-vulture-2017-4k-8365.jpg\n",
            "[!] Error:: HTTP Error 404: Not Found\n",
            "[%] Downloading Image #14 from https://wallpapersite.com/images/wallpapers/iron-spider-640x960-spider-man-hd-16424.jpg\n",
            "[!] Issue getting: https://wallpapersite.com/images/wallpapers/iron-spider-640x960-spider-man-hd-16424.jpg\n",
            "[!] Error:: HTTP Error 404: Not Found\n",
            "[%] Downloading Image #14 from https://wallpapersite.com/images/wallpapers/spider-man-1080x1920-ps4-hd-4k-3125.jpg\n",
            "[!] Issue getting: https://wallpapersite.com/images/wallpapers/spider-man-1080x1920-ps4-hd-4k-3125.jpg\n",
            "[!] Error:: HTTP Error 404: Not Found\n",
            "[%] Downloading Image #14 from https://wallpapersite.com/images/wallpapers/spider-man-1080x1920-hd-4k-8582.jpg\n",
            "[!] Issue getting: https://wallpapersite.com/images/wallpapers/spider-man-1080x1920-hd-4k-8582.jpg\n",
            "[!] Error:: HTTP Error 404: Not Found\n",
            "[%] Downloading Image #14 from https://wallpapersite.com/images/wallpapers/spider-man-1440x2560-ps4-hd-4k-3125.jpg\n",
            "[!] Issue getting: https://wallpapersite.com/images/wallpapers/spider-man-1440x2560-ps4-hd-4k-3125.jpg\n",
            "[!] Error:: HTTP Error 404: Not Found\n",
            "[%] Downloading Image #14 from http://www.newdvdreleasedates.com/images/posters/large/the-amazing-spider-man-2-2014-01.jpg\n",
            "[%] File Downloaded !\n",
            "\n",
            "\n",
            "\n",
            "[!!]Indexing page: 5\n",
            "\n",
            "[%] Indexed 10 Images on Page 5.\n",
            "\n",
            "===============================================\n",
            "\n",
            "[%] Downloading Image #15 from https://wallpapersite.com/images/wallpapers/spider-man-homecoming-1920x1200-iron-man-hd-11114.jpg\n",
            "[!] Issue getting: https://wallpapersite.com/images/wallpapers/spider-man-homecoming-1920x1200-iron-man-hd-11114.jpg\n",
            "[!] Error:: HTTP Error 404: Not Found\n",
            "[%] Downloading Image #15 from https://wallpapersite.com/images/wallpapers/spider-man-1080x1920-hd-4k-8582.jpg\n",
            "[!] Issue getting: https://wallpapersite.com/images/wallpapers/spider-man-1080x1920-hd-4k-8582.jpg\n",
            "[!] Error:: HTTP Error 404: Not Found\n",
            "[%] Downloading Image #15 from https://wallpapersite.com/images/wallpapers/spider-man-homecoming-2560x1440-vulture-2017-4k-8365.jpg\n",
            "[!] Issue getting: https://wallpapersite.com/images/wallpapers/spider-man-homecoming-2560x1440-vulture-2017-4k-8365.jpg\n",
            "[!] Error:: HTTP Error 404: Not Found\n",
            "[%] Downloading Image #15 from https://www.hdwallpapers.in/download/spider_man_far_from_home_4k_5k-540x960.jpg\n",
            "[%] File Downloaded !\n",
            "\n",
            "[%] Downloading Image #16 from http://www.histoiredeperles.com/images/perle-hama-spiderman_4.jpg\n",
            "[%] File Downloaded !\n",
            "\n",
            "[%] Downloading Image #17 from https://wallpapersite.com/images/wallpapers/spider-man-1080x1920-ps4-hd-4k-3125.jpg\n",
            "[!] Issue getting: https://wallpapersite.com/images/wallpapers/spider-man-1080x1920-ps4-hd-4k-3125.jpg\n",
            "[!] Error:: HTTP Error 404: Not Found\n",
            "[%] Downloading Image #17 from https://wallpapersite.com/images/wallpapers/spider-man-1440x2560-ps4-hd-4k-3125.jpg\n",
            "[!] Issue getting: https://wallpapersite.com/images/wallpapers/spider-man-1440x2560-ps4-hd-4k-3125.jpg\n",
            "[!] Error:: HTTP Error 404: Not Found\n",
            "[%] Downloading Image #17 from http://www.newdvdreleasedates.com/images/posters/large/the-amazing-spider-man-2-2014-01.jpg\n",
            "[%] File Downloaded !\n",
            "\n",
            "[%] Downloading Image #18 from https://wallpapersite.com/images/wallpapers/spider-man-1080x1920-marvel-comics-playstation-4-2018-4k-13032.jpg\n",
            "[!] Issue getting: https://wallpapersite.com/images/wallpapers/spider-man-1080x1920-marvel-comics-playstation-4-2018-4k-13032.jpg\n",
            "[!] Error:: HTTP Error 404: Not Found\n",
            "[%] Downloading Image #18 from https://wallpapersite.com/images/wallpapers/iron-spider-640x960-spider-man-hd-16424.jpg\n",
            "[!] Issue getting: https://wallpapersite.com/images/wallpapers/iron-spider-640x960-spider-man-hd-16424.jpg\n",
            "[!] Error:: HTTP Error 404: Not Found\n",
            "\n",
            "\n",
            "[!!]Indexing page: 6\n",
            "\n",
            "[%] Indexed 9 Images on Page 6.\n",
            "\n",
            "===============================================\n",
            "\n",
            "[%] Downloading Image #18 from https://wallpapersite.com/images/wallpapers/spider-man-homecoming-2560x1440-vulture-2017-4k-8365.jpg\n",
            "[!] Issue getting: https://wallpapersite.com/images/wallpapers/spider-man-homecoming-2560x1440-vulture-2017-4k-8365.jpg\n",
            "[!] Error:: HTTP Error 404: Not Found\n",
            "[%] Downloading Image #18 from https://wallpapersite.com/images/wallpapers/spider-man-1080x1920-hd-4k-8582.jpg\n",
            "[!] Issue getting: https://wallpapersite.com/images/wallpapers/spider-man-1080x1920-hd-4k-8582.jpg\n",
            "[!] Error:: HTTP Error 404: Not Found\n",
            "[%] Downloading Image #18 from https://wallpapersite.com/images/wallpapers/spider-man-1080x1920-ps4-hd-4k-3125.jpg\n",
            "[!] Issue getting: https://wallpapersite.com/images/wallpapers/spider-man-1080x1920-ps4-hd-4k-3125.jpg\n",
            "[!] Error:: HTTP Error 404: Not Found\n",
            "[%] Downloading Image #18 from http://www.newdvdreleasedates.com/images/posters/large/the-amazing-spider-man-2-2014-01.jpg\n",
            "[%] File Downloaded !\n",
            "\n",
            "[%] Downloading Image #19 from https://wallpapersite.com/images/wallpapers/spider-man-1440x2560-ps4-hd-4k-3125.jpg\n",
            "[!] Issue getting: https://wallpapersite.com/images/wallpapers/spider-man-1440x2560-ps4-hd-4k-3125.jpg\n",
            "[!] Error:: HTTP Error 404: Not Found\n",
            "[%] Downloading Image #19 from https://wallpapersite.com/images/wallpapers/iron-spider-640x960-spider-man-hd-16424.jpg\n",
            "[!] Issue getting: https://wallpapersite.com/images/wallpapers/iron-spider-640x960-spider-man-hd-16424.jpg\n",
            "[!] Error:: HTTP Error 404: Not Found\n",
            "[%] Downloading Image #19 from https://wallpapersite.com/images/wallpapers/spider-man-1080x1920-marvel-comics-playstation-4-2018-4k-13032.jpg\n",
            "[!] Issue getting: https://wallpapersite.com/images/wallpapers/spider-man-1080x1920-marvel-comics-playstation-4-2018-4k-13032.jpg\n",
            "[!] Error:: HTTP Error 404: Not Found\n",
            "[%] Downloading Image #19 from https://www.hdwallpapers.in/download/spider_man_far_from_home_4k_5k-540x960.jpg\n",
            "[%] File Downloaded !\n",
            "\n",
            "[%] Downloading Image #20 from http://www.histoiredeperles.com/images/perle-hama-spiderman_4.jpg\n",
            "[%] File Downloaded !\n",
            "\n",
            "\n",
            "\n",
            "[!!]Indexing page: 7\n",
            "\n",
            "[%] Indexed 8 Images on Page 7.\n",
            "\n",
            "===============================================\n",
            "\n",
            "[%] Downloading Image #21 from https://wallpapersite.com/images/wallpapers/spider-man-1080x1920-ps4-hd-4k-3125.jpg\n",
            "[!] Issue getting: https://wallpapersite.com/images/wallpapers/spider-man-1080x1920-ps4-hd-4k-3125.jpg\n",
            "[!] Error:: HTTP Error 404: Not Found\n",
            "[%] Downloading Image #21 from http://www.newdvdreleasedates.com/images/posters/large/the-amazing-spider-man-2-2014-01.jpg\n",
            "[%] File Downloaded !\n",
            "\n",
            "[%] Downloading Image #22 from https://wallpapersite.com/images/wallpapers/spider-man-1440x2560-ps4-hd-4k-3125.jpg\n",
            "[!] Issue getting: https://wallpapersite.com/images/wallpapers/spider-man-1440x2560-ps4-hd-4k-3125.jpg\n",
            "[!] Error:: HTTP Error 404: Not Found\n",
            "[%] Downloading Image #22 from https://wallpapersite.com/images/wallpapers/iron-spider-640x960-spider-man-hd-16424.jpg\n",
            "[!] Issue getting: https://wallpapersite.com/images/wallpapers/iron-spider-640x960-spider-man-hd-16424.jpg\n",
            "[!] Error:: HTTP Error 404: Not Found\n",
            "[%] Downloading Image #22 from https://wallpapersite.com/images/wallpapers/spider-man-1080x1920-marvel-comics-playstation-4-2018-4k-13032.jpg\n",
            "[!] Issue getting: https://wallpapersite.com/images/wallpapers/spider-man-1080x1920-marvel-comics-playstation-4-2018-4k-13032.jpg\n",
            "[!] Error:: HTTP Error 404: Not Found\n",
            "[%] Downloading Image #22 from https://www.hdwallpapers.in/download/spider_man_far_from_home_4k_5k-540x960.jpg\n",
            "[%] File Downloaded !\n",
            "\n",
            "[%] Downloading Image #23 from http://www.histoiredeperles.com/images/perle-hama-spiderman_4.jpg\n",
            "[%] File Downloaded !\n",
            "\n",
            "[%] Downloading Image #24 from https://wallpapersite.com/images/wallpapers/spider-man-1080x1920-hd-4k-8582.jpg\n",
            "[!] Issue getting: https://wallpapersite.com/images/wallpapers/spider-man-1080x1920-hd-4k-8582.jpg\n",
            "[!] Error:: HTTP Error 404: Not Found\n",
            "\n",
            "\n",
            "[!!]Indexing page: 8\n",
            "\n",
            "[%] Indexed 7 Images on Page 8.\n",
            "\n",
            "===============================================\n",
            "\n",
            "[%] Downloading Image #24 from https://wallpapersite.com/images/wallpapers/spider-man-1440x2560-ps4-hd-4k-3125.jpg\n",
            "[!] Issue getting: https://wallpapersite.com/images/wallpapers/spider-man-1440x2560-ps4-hd-4k-3125.jpg\n",
            "[!] Error:: HTTP Error 404: Not Found\n",
            "[%] Downloading Image #24 from http://www.histoiredeperles.com/images/perle-hama-spiderman_4.jpg\n",
            "[%] File Downloaded !\n",
            "\n",
            "[%] Downloading Image #25 from https://wallpapersite.com/images/wallpapers/spider-man-1080x1920-marvel-comics-playstation-4-2018-4k-13032.jpg\n",
            "[!] Issue getting: https://wallpapersite.com/images/wallpapers/spider-man-1080x1920-marvel-comics-playstation-4-2018-4k-13032.jpg\n",
            "[!] Error:: HTTP Error 404: Not Found\n",
            "[%] Downloading Image #25 from https://www.hdwallpapers.in/download/spider_man_far_from_home_4k_5k-540x960.jpg\n",
            "[%] File Downloaded !\n",
            "\n",
            "[%] Downloading Image #26 from https://wallpapersite.com/images/wallpapers/spider-man-1080x1920-hd-4k-8582.jpg\n",
            "[!] Issue getting: https://wallpapersite.com/images/wallpapers/spider-man-1080x1920-hd-4k-8582.jpg\n",
            "[!] Error:: HTTP Error 404: Not Found\n",
            "[%] Downloading Image #26 from http://www.newdvdreleasedates.com/images/posters/large/the-amazing-spider-man-2-2014-01.jpg\n",
            "[%] File Downloaded !\n",
            "\n",
            "[%] Downloading Image #27 from https://wallpapersite.com/images/wallpapers/iron-spider-640x960-spider-man-hd-16424.jpg\n",
            "[!] Issue getting: https://wallpapersite.com/images/wallpapers/iron-spider-640x960-spider-man-hd-16424.jpg\n",
            "[!] Error:: HTTP Error 404: Not Found\n",
            "\n",
            "\n",
            "[!!]Indexing page: 9\n",
            "\n",
            "[%] Indexed 6 Images on Page 9.\n",
            "\n",
            "===============================================\n",
            "\n",
            "[%] Downloading Image #27 from https://wallpapersite.com/images/wallpapers/spider-man-1080x1920-marvel-comics-playstation-4-2018-4k-13032.jpg\n",
            "[!] Issue getting: https://wallpapersite.com/images/wallpapers/spider-man-1080x1920-marvel-comics-playstation-4-2018-4k-13032.jpg\n",
            "[!] Error:: HTTP Error 404: Not Found\n",
            "[%] Downloading Image #27 from https://www.hdwallpapers.in/download/spider_man_far_from_home_4k_5k-540x960.jpg\n",
            "[%] File Downloaded !\n",
            "\n",
            "[%] Downloading Image #28 from https://wallpapersite.com/images/wallpapers/spider-man-1080x1920-hd-4k-8582.jpg\n",
            "[!] Issue getting: https://wallpapersite.com/images/wallpapers/spider-man-1080x1920-hd-4k-8582.jpg\n",
            "[!] Error:: HTTP Error 404: Not Found\n",
            "[%] Downloading Image #28 from http://www.newdvdreleasedates.com/images/posters/large/the-amazing-spider-man-2-2014-01.jpg\n",
            "[%] File Downloaded !\n",
            "\n",
            "[%] Downloading Image #29 from http://www.histoiredeperles.com/images/perle-hama-spiderman_4.jpg\n",
            "[%] File Downloaded !\n",
            "\n",
            "[%] Downloading Image #30 from https://wallpapersite.com/images/wallpapers/iron-spider-640x960-spider-man-hd-16424.jpg\n",
            "[!] Issue getting: https://wallpapersite.com/images/wallpapers/iron-spider-640x960-spider-man-hd-16424.jpg\n",
            "[!] Error:: HTTP Error 404: Not Found\n",
            "\n",
            "\n",
            "[!!]Indexing page: 10\n",
            "\n",
            "[%] Indexed 5 Images on Page 10.\n",
            "\n",
            "===============================================\n",
            "\n",
            "[%] Downloading Image #30 from https://www.hdwallpapers.in/download/spider_man_far_from_home_4k_5k-540x960.jpg\n",
            "[%] File Downloaded !\n",
            "\n",
            "\n",
            "\n",
            "[%] Done. Downloaded 30 images.\n",
            "\n",
            "===============================================\n",
            "\n",
            "\n",
            "\n",
            "[!!]Indexing page: 1\n",
            "\n",
            "[%] Indexed 13 Images on Page 1.\n",
            "\n",
            "===============================================\n",
            "\n",
            "[%] Downloading Image #1 from http://www.mwctoys.com/images/review_moviehulk_7.jpg\n",
            "[%] File Downloaded !\n",
            "\n",
            "[%] Downloading Image #2 from https://wallpapersite.com/images/wallpapers/captain-marvel-1440x2560-brie-larson-2019-4k-15784.jpg\n",
            "[!] Issue getting: https://wallpapersite.com/images/wallpapers/captain-marvel-1440x2560-brie-larson-2019-4k-15784.jpg\n",
            "[!] Error:: HTTP Error 404: Not Found\n",
            "[%] Downloading Image #2 from http://marveltoynews.com/wp-content/uploads/2019/02/watermarked52019-02-16-0910.jpg\n",
            "[%] File Downloaded !\n",
            "\n",
            "[%] Downloading Image #3 from https://klyker.com/wp-content/uploads/2015/02/hulk-is-the-biggest-pitbull-in-the-world-9.jpg\n",
            "[%] File Downloaded !\n",
            "\n",
            "[%] Downloading Image #4 from http://costumefail.com/wordpress/wp-content/uploads/2011/09/galactus-costume.jpg\n",
            "[%] File Downloaded !\n",
            "\n",
            "[%] Downloading Image #5 from https://wallpapersite.com/images/wallpapers/hulk-640x960-thor-ragnarok-artwork-hd-4k-12255.jpg\n",
            "[!] Issue getting: https://wallpapersite.com/images/wallpapers/hulk-640x960-thor-ragnarok-artwork-hd-4k-12255.jpg\n",
            "[!] Error:: HTTP Error 404: Not Found\n",
            "[%] Downloading Image #5 from https://wallpapershome.com/images/wallpapers/avengers-age-of-ultron-2160x3840-avengers-2-robert-downey-jr-iron-man-5750.jpg\n",
            "[%] File Downloaded !\n",
            "\n",
            "[%] Downloading Image #6 from http://cartoondistrict.com/wp-content/uploads/2015/05/Most-Famous-Green-Cartoon-Characters16-016.jpg\n",
            "[%] File Downloaded !\n",
            "\n",
            "[%] Downloading Image #7 from http://img-cdn.brainberries.co/wp-content/uploads/2015/10/This-Hulkbuster-Costume-Is-The-Most-Realistic-Cosplay-Of-All-Time-5.jpg\n",
            "[%] File Downloaded !\n",
            "\n",
            "[%] Downloading Image #8 from https://wallpapershome.com/images/wallpapers/avengers-age-of-ultron-1080x1920-avengers-2-robert-downey-jr-iron-man-5750.jpg\n",
            "[%] File Downloaded !\n",
            "\n",
            "[%] Downloading Image #9 from https://wallpapershome.com/images/wallpapers/avengers-age-of-ultron-1440x2560-iron-man-captain-america-hulk-black-15074.jpg\n",
            "[%] File Downloaded !\n",
            "\n",
            "[%] Downloading Image #10 from https://weneedfun.com/wp-content/uploads/2016/09/New-Beginning-Wallpapers-14.jpg\n",
            "[%] File Downloaded !\n",
            "\n",
            "[%] Downloading Image #11 from https://www.fonewalls.com/wp-content/uploads/828x1792-Background-HD-Wallpaper-594-300x649.jpg\n",
            "[%] File Downloaded !\n",
            "\n",
            "\n",
            "\n",
            "[!!]Indexing page: 2\n",
            "\n",
            "[%] Indexed 13 Images on Page 2.\n",
            "\n",
            "===============================================\n",
            "\n",
            "[%] Downloading Image #12 from http://www.mwctoys.com/images/review_moviehulk_7.jpg\n",
            "[%] File Downloaded !\n",
            "\n",
            "[%] Downloading Image #13 from https://wallpapersite.com/images/wallpapers/captain-marvel-1440x2560-brie-larson-2019-4k-15784.jpg\n",
            "[!] Issue getting: https://wallpapersite.com/images/wallpapers/captain-marvel-1440x2560-brie-larson-2019-4k-15784.jpg\n",
            "[!] Error:: HTTP Error 404: Not Found\n",
            "[%] Downloading Image #13 from http://marveltoynews.com/wp-content/uploads/2019/02/watermarked52019-02-16-0910.jpg\n",
            "[%] File Downloaded !\n",
            "\n",
            "[%] Downloading Image #14 from https://klyker.com/wp-content/uploads/2015/02/hulk-is-the-biggest-pitbull-in-the-world-9.jpg\n",
            "[%] File Downloaded !\n",
            "\n",
            "[%] Downloading Image #15 from http://costumefail.com/wordpress/wp-content/uploads/2011/09/galactus-costume.jpg\n",
            "[%] File Downloaded !\n",
            "\n",
            "[%] Downloading Image #16 from https://wallpapersite.com/images/wallpapers/hulk-640x960-thor-ragnarok-artwork-hd-4k-12255.jpg\n",
            "[!] Issue getting: https://wallpapersite.com/images/wallpapers/hulk-640x960-thor-ragnarok-artwork-hd-4k-12255.jpg\n",
            "[!] Error:: HTTP Error 404: Not Found\n",
            "[%] Downloading Image #16 from https://wallpapershome.com/images/wallpapers/avengers-age-of-ultron-2160x3840-avengers-2-robert-downey-jr-iron-man-5750.jpg\n",
            "[%] File Downloaded !\n",
            "\n",
            "[%] Downloading Image #17 from http://cartoondistrict.com/wp-content/uploads/2015/05/Most-Famous-Green-Cartoon-Characters16-016.jpg\n",
            "[%] File Downloaded !\n",
            "\n",
            "[%] Downloading Image #18 from http://img-cdn.brainberries.co/wp-content/uploads/2015/10/This-Hulkbuster-Costume-Is-The-Most-Realistic-Cosplay-Of-All-Time-5.jpg\n",
            "[%] File Downloaded !\n",
            "\n",
            "[%] Downloading Image #19 from https://wallpapershome.com/images/wallpapers/avengers-age-of-ultron-1080x1920-avengers-2-robert-downey-jr-iron-man-5750.jpg\n",
            "[%] File Downloaded !\n",
            "\n",
            "[%] Downloading Image #20 from https://wallpapershome.com/images/wallpapers/avengers-age-of-ultron-1440x2560-iron-man-captain-america-hulk-black-15074.jpg\n",
            "[%] File Downloaded !\n",
            "\n",
            "[%] Downloading Image #21 from https://weneedfun.com/wp-content/uploads/2016/09/New-Beginning-Wallpapers-14.jpg\n",
            "[%] File Downloaded !\n",
            "\n",
            "[%] Downloading Image #22 from https://www.fonewalls.com/wp-content/uploads/828x1792-Background-HD-Wallpaper-594-300x649.jpg\n",
            "[%] File Downloaded !\n",
            "\n",
            "\n",
            "\n",
            "[!!]Indexing page: 3\n",
            "\n",
            "[%] Indexed 12 Images on Page 3.\n",
            "\n",
            "===============================================\n",
            "\n",
            "[%] Downloading Image #23 from https://klyker.com/wp-content/uploads/2015/02/hulk-is-the-biggest-pitbull-in-the-world-9.jpg\n",
            "[%] File Downloaded !\n",
            "\n",
            "[%] Downloading Image #24 from https://wallpapersite.com/images/wallpapers/captain-marvel-1440x2560-brie-larson-2019-4k-15784.jpg\n",
            "[!] Issue getting: https://wallpapersite.com/images/wallpapers/captain-marvel-1440x2560-brie-larson-2019-4k-15784.jpg\n",
            "[!] Error:: HTTP Error 404: Not Found\n",
            "[%] Downloading Image #24 from http://marveltoynews.com/wp-content/uploads/2019/02/watermarked52019-02-16-0910.jpg\n",
            "[%] File Downloaded !\n",
            "\n",
            "[%] Downloading Image #25 from https://wallpapersite.com/images/wallpapers/hulk-640x960-thor-ragnarok-artwork-hd-4k-12255.jpg\n",
            "[!] Issue getting: https://wallpapersite.com/images/wallpapers/hulk-640x960-thor-ragnarok-artwork-hd-4k-12255.jpg\n",
            "[!] Error:: HTTP Error 404: Not Found\n",
            "[%] Downloading Image #25 from https://weneedfun.com/wp-content/uploads/2016/09/New-Beginning-Wallpapers-14.jpg\n",
            "[%] File Downloaded !\n",
            "\n",
            "[%] Downloading Image #26 from http://costumefail.com/wordpress/wp-content/uploads/2011/09/galactus-costume.jpg\n",
            "[%] File Downloaded !\n",
            "\n",
            "[%] Downloading Image #27 from http://img-cdn.brainberries.co/wp-content/uploads/2015/10/This-Hulkbuster-Costume-Is-The-Most-Realistic-Cosplay-Of-All-Time-5.jpg\n",
            "[%] File Downloaded !\n",
            "\n",
            "[%] Downloading Image #28 from https://wallpapershome.com/images/wallpapers/avengers-age-of-ultron-2160x3840-avengers-2-robert-downey-jr-iron-man-5750.jpg\n",
            "[%] File Downloaded !\n",
            "\n",
            "[%] Downloading Image #29 from http://cartoondistrict.com/wp-content/uploads/2015/05/Most-Famous-Green-Cartoon-Characters16-016.jpg\n",
            "[%] File Downloaded !\n",
            "\n",
            "[%] Downloading Image #30 from https://wallpapershome.com/images/wallpapers/avengers-age-of-ultron-1440x2560-iron-man-captain-america-hulk-black-15074.jpg\n",
            "[%] File Downloaded !\n",
            "\n",
            "\n",
            "\n",
            "[%] Done. Downloaded 30 images.\n",
            "\n",
            "===============================================\n",
            "\n",
            "time: 1min 1s\n"
          ],
          "name": "stdout"
        }
      ]
    },
    {
      "cell_type": "markdown",
      "metadata": {
        "id": "dGIXA7W7Oxkq"
      },
      "source": [
        "# Data preprocessing \n",
        "\n",
        "* Resizing the images\n",
        "\n",
        "* Flattening the values of the image"
      ]
    },
    {
      "cell_type": "code",
      "metadata": {
        "id": "-Y62oep-TWfm",
        "colab": {
          "base_uri": "https://localhost:8080/"
        },
        "outputId": "6e9d1f61-1c96-4e98-8e11-9a62ef5b22d6"
      },
      "source": [
        "#importing the required libraries\n",
        "import os\n",
        "import matplotlib.pyplot as plt\n",
        "import numpy as np\n",
        "from skimage.io import imread\n",
        "from skimage.transform import resize\n",
        "\n",
        "target = []\n",
        "images = []\n",
        "flat_data = []\n",
        "\n",
        "DATADIR = '/content/images'\n",
        "CATEGORIES = ['Ironman','Spiderman','Hulk']\n",
        "\n",
        "for category in CATEGORIES:\n",
        "  # Using Label Encoding to encode the values\n",
        "  class_num = CATEGORIES.index(category) \n",
        "  # Create path to use all the images\n",
        "  path = os.path.join(DATADIR,category) \n",
        "  for img in os.listdir(path):\n",
        "    img_array = imread(os.path.join(path,img))\n",
        "    #print(img_array.shape)\n",
        "    #plt.imshow(img_array)\n",
        "    img_resized = resize(img_array,(150,150,3)) # Normalizes the value from 0 to 1\n",
        "    flat_data.append(img_resized.flatten())\n",
        "    images.append(img_resized)\n",
        "    target.append(class_num)\n",
        "\n",
        "flat_data = np.array(flat_data)\n",
        "target = np.array(target)\n",
        "images = np.array(images)\n"
      ],
      "execution_count": 30,
      "outputs": [
        {
          "output_type": "stream",
          "text": [
            "time: 24.1 s\n"
          ],
          "name": "stdout"
        }
      ]
    },
    {
      "cell_type": "code",
      "metadata": {
        "id": "QjqieqwHaplU",
        "colab": {
          "base_uri": "https://localhost:8080/"
        },
        "outputId": "3abe603b-15ec-47b6-efed-0247d16498fa"
      },
      "source": [
        "target"
      ],
      "execution_count": null,
      "outputs": [
        {
          "output_type": "execute_result",
          "data": {
            "text/plain": [
              "array([0, 0, 0, 0, 0, 0, 0, 0, 0, 0, 0, 0, 0, 0, 0, 0, 0, 0, 0, 0, 0, 0,\n",
              "       0, 0, 0, 0, 0, 0, 0, 0, 1, 1, 1, 1, 1, 1, 1, 1, 1, 1, 1, 1, 1, 1,\n",
              "       1, 1, 1, 1, 1, 1, 1, 1, 1, 1, 1, 1, 1, 1, 1, 1, 2, 2, 2, 2, 2, 2,\n",
              "       2, 2, 2, 2, 2, 2, 2, 2, 2, 2, 2, 2, 2, 2, 2, 2, 2, 2, 2, 2, 2, 2,\n",
              "       2, 2])"
            ]
          },
          "metadata": {
            "tags": []
          },
          "execution_count": 11
        },
        {
          "output_type": "stream",
          "text": [
            "time: 8.11 ms\n"
          ],
          "name": "stdout"
        }
      ]
    },
    {
      "cell_type": "markdown",
      "metadata": {
        "id": "iB17n_JDQEr2"
      },
      "source": [
        "# Plotting the count of Categories as a Bar plot"
      ]
    },
    {
      "cell_type": "code",
      "metadata": {
        "id": "H60R4migaxdt",
        "colab": {
          "base_uri": "https://localhost:8080/",
          "height": 298
        },
        "outputId": "f009896d-d873-41ac-ca72-7ab620f49184"
      },
      "source": [
        "unique,count = np.unique(target,return_counts=True)\n",
        "plt.bar(CATEGORIES,count)"
      ],
      "execution_count": null,
      "outputs": [
        {
          "output_type": "execute_result",
          "data": {
            "text/plain": [
              "<BarContainer object of 3 artists>"
            ]
          },
          "metadata": {
            "tags": []
          },
          "execution_count": 12
        },
        {
          "output_type": "display_data",
          "data": {
            "image/png": "[encoded data removed]",
            "text/plain": [
              "<Figure size 432x288 with 1 Axes>"
            ]
          },
          "metadata": {
            "tags": [],
            "needs_background": "light"
          }
        },
        {
          "output_type": "stream",
          "text": [
            "time: 165 ms\n"
          ],
          "name": "stdout"
        }
      ]
    },
    {
      "cell_type": "code",
      "metadata": {
        "id": "Nc7JG_G-a535",
        "colab": {
          "base_uri": "https://localhost:8080/"
        },
        "outputId": "4e0cd2c4-7724-4a76-a0c7-50030ec98f2d"
      },
      "source": [
        "# Split data into Training and testing\n",
        "from sklearn.model_selection import train_test_split\n",
        "x_train,x_test,y_train,y_test = train_test_split(flat_data,target,\n",
        "                                  test_size=0.3,random_state=109)"
      ],
      "execution_count": null,
      "outputs": [
        {
          "output_type": "stream",
          "text": [
            "time: 224 ms\n"
          ],
          "name": "stdout"
        }
      ]
    },
    {
      "cell_type": "markdown",
      "metadata": {
        "id": "VTc5AwrtQ8qW"
      },
      "source": [
        "Using \n",
        "\n",
        "# SUPPORT VECTOR MACHINES (SVM)"
      ]
    },
    {
      "cell_type": "code",
      "metadata": {
        "id": "ZJ9RIOnjb0sF",
        "colab": {
          "base_uri": "https://localhost:8080/"
        },
        "outputId": "614e693e-38b9-4522-9c4a-72f323a2d3e7"
      },
      "source": [
        "from sklearn.model_selection import GridSearchCV\n",
        "from sklearn import svm\n",
        "param_grid = [\n",
        "              {'C':[1,10,100,1000],'kernel':['linear']},\n",
        "              {'C':[1,10,100,1000],'gamma':[0.001,0.0001],'kernel':['rbf']},\n",
        "]\n",
        "\n",
        "svc = svm.SVC(probability=True)\n",
        "clf = GridSearchCV(svc,param_grid)\n",
        "clf.fit(x_train,y_train)"
      ],
      "execution_count": null,
      "outputs": [
        {
          "output_type": "execute_result",
          "data": {
            "text/plain": [
              "GridSearchCV(cv=None, error_score=nan,\n",
              "             estimator=SVC(C=1.0, break_ties=False, cache_size=200,\n",
              "                           class_weight=None, coef0=0.0,\n",
              "                           decision_function_shape='ovr', degree=3,\n",
              "                           gamma='scale', kernel='rbf', max_iter=-1,\n",
              "                           probability=True, random_state=None, shrinking=True,\n",
              "                           tol=0.001, verbose=False),\n",
              "             iid='deprecated', n_jobs=None,\n",
              "             param_grid=[{'C': [1, 10, 100, 1000], 'kernel': ['linear']},\n",
              "                         {'C': [1, 10, 100, 1000], 'gamma': [0.001, 0.0001],\n",
              "                          'kernel': ['rbf']}],\n",
              "             pre_dispatch='2*n_jobs', refit=True, return_train_score=False,\n",
              "             scoring=None, verbose=0)"
            ]
          },
          "metadata": {
            "tags": []
          },
          "execution_count": 14
        },
        {
          "output_type": "stream",
          "text": [
            "time: 1min 36s\n"
          ],
          "name": "stdout"
        }
      ]
    },
    {
      "cell_type": "code",
      "metadata": {
        "id": "4AM14X9ndlbb",
        "colab": {
          "base_uri": "https://localhost:8080/"
        },
        "outputId": "5515407b-de39-4f34-cf7a-eab4e28f40b2"
      },
      "source": [
        "y_pred = clf.predict(x_test)\n",
        "y_pred"
      ],
      "execution_count": null,
      "outputs": [
        {
          "output_type": "execute_result",
          "data": {
            "text/plain": [
              "array([0, 0, 0, 2, 2, 1, 0, 1, 1, 0, 1, 0, 1, 2, 2, 1, 2, 1, 0, 1, 2, 2,\n",
              "       2, 0, 0, 0, 0])"
            ]
          },
          "metadata": {
            "tags": []
          },
          "execution_count": 15
        },
        {
          "output_type": "stream",
          "text": [
            "time: 174 ms\n"
          ],
          "name": "stdout"
        }
      ]
    },
    {
      "cell_type": "code",
      "metadata": {
        "id": "inSqzIWYecEp",
        "colab": {
          "base_uri": "https://localhost:8080/"
        },
        "outputId": "d7ef0fe4-8dfa-4bb6-f44c-11caae063928"
      },
      "source": [
        "y_test"
      ],
      "execution_count": null,
      "outputs": [
        {
          "output_type": "execute_result",
          "data": {
            "text/plain": [
              "array([1, 0, 1, 2, 2, 1, 0, 1, 1, 0, 1, 0, 1, 2, 2, 1, 2, 1, 0, 1, 2, 2,\n",
              "       2, 0, 0, 0, 1])"
            ]
          },
          "metadata": {
            "tags": []
          },
          "execution_count": 16
        },
        {
          "output_type": "stream",
          "text": [
            "time: 3.76 ms\n"
          ],
          "name": "stdout"
        }
      ]
    },
    {
      "cell_type": "markdown",
      "metadata": {
        "id": "ftcr-KNuRyHw"
      },
      "source": [
        "# Creating **Confusion Matrix** on the predicted values"
      ]
    },
    {
      "cell_type": "code",
      "metadata": {
        "id": "DCc8RnkNenBa",
        "colab": {
          "base_uri": "https://localhost:8080/"
        },
        "outputId": "4579c695-3c83-42db-83a3-1a8e5ff9e888"
      },
      "source": [
        "from sklearn.metrics import accuracy_score,confusion_matrix\n",
        "acc=accuracy_score(y_pred,y_test)\n",
        "print(acc)\n",
        "print(\"Confusion Matrix\")\n",
        "confusion_matrix(y_pred,y_test)"
      ],
      "execution_count": 33,
      "outputs": [
        {
          "output_type": "stream",
          "text": [
            "0.8888888888888888\n",
            "Confusion Matrix\n"
          ],
          "name": "stdout"
        },
        {
          "output_type": "execute_result",
          "data": {
            "text/plain": [
              "array([[8, 3, 0],\n",
              "       [0, 8, 0],\n",
              "       [0, 0, 8]])"
            ]
          },
          "metadata": {
            "tags": []
          },
          "execution_count": 33
        },
        {
          "output_type": "stream",
          "text": [
            "time: 6.91 ms\n"
          ],
          "name": "stdout"
        }
      ]
    },
    {
      "cell_type": "code",
      "metadata": {
        "id": "yTMcZcBMexRX",
        "colab": {
          "base_uri": "https://localhost:8080/"
        },
        "outputId": "aef5e2e4-6402-4f59-f99c-b6eb08b516cc"
      },
      "source": [
        "# Saving the  model with the help of Pickle library\n",
        "import pickle\n",
        "pickle.dump(clf,open('img_model.p','wb'))"
      ],
      "execution_count": 34,
      "outputs": [
        {
          "output_type": "stream",
          "text": [
            "time: 56.6 ms\n"
          ],
          "name": "stdout"
        }
      ]
    },
    {
      "cell_type": "code",
      "metadata": {
        "id": "ozmx2xuQfb4G",
        "colab": {
          "base_uri": "https://localhost:8080/"
        },
        "outputId": "86c679da-2541-41be-bec4-34706a77e1d9"
      },
      "source": [
        "model = pickle.load(open('img_model.p','rb'))"
      ],
      "execution_count": 35,
      "outputs": [
        {
          "output_type": "stream",
          "text": [
            "time: 20.7 ms\n"
          ],
          "name": "stdout"
        }
      ]
    },
    {
      "cell_type": "markdown",
      "metadata": {
        "id": "ApSctqpcgX9D"
      },
      "source": [
        "Testing with a new image "
      ]
    },
    {
      "cell_type": "code",
      "metadata": {
        "id": "qlM8mvRkf6__"
      },
      "source": [
        "# Testing a brand new Image\n",
        "flat_data = []\n",
        "url = input('Enter your URL')\n",
        "img = imread(url)\n",
        "img_resized = resize(img,(150,150,3))\n",
        "flat_data.append(img_resized.flatten())\n",
        "flat_data = np.array(flat_data)\n",
        "print(img.shape)\n",
        "plt.imshow(img_resized)\n",
        "y_out = model.predict(flat_data)\n",
        "y_out = CATEGORIES[y_out[0]]\n",
        "print(f' PREDICTED OUTPUT: {y_out}')"
      ],
      "execution_count": null,
      "outputs": []
    },
    {
      "cell_type": "markdown",
      "metadata": {
        "id": "y4cGBfcehEmG"
      },
      "source": [
        "Creating a web app using **STREAMLIT**\n",
        "\n",
        "---\n",
        "\n",
        "\n",
        "\n",
        "\n",
        "\n"
      ]
    },
    {
      "cell_type": "code",
      "metadata": {
        "id": "5E3cm1Yqg7Q2",
        "colab": {
          "base_uri": "https://localhost:8080/"
        },
        "outputId": "379c8cd5-e51e-49a1-8b23-f9a7e36e9a45"
      },
      "source": [
        "!pip install streamlit\n",
        "\n",
        "!pip install pyngrok\n",
        "from pyngrok import ngrok\n"
      ],
      "execution_count": 45,
      "outputs": [
        {
          "output_type": "stream",
          "text": [
            "Requirement already satisfied: streamlit in /usr/local/lib/python3.6/dist-packages (0.71.0)\n",
            "Requirement already satisfied: tornado>=5.0 in /usr/local/lib/python3.6/dist-packages (from streamlit) (5.1.1)\n",
            "Requirement already satisfied: tzlocal in /usr/local/lib/python3.6/dist-packages (from streamlit) (1.5.1)\n",
            "Requirement already satisfied: pydeck>=0.1.dev5 in /usr/local/lib/python3.6/dist-packages (from streamlit) (0.5.0)\n",
            "Requirement already satisfied: astor in /usr/local/lib/python3.6/dist-packages (from streamlit) (0.8.1)\n",
            "Requirement already satisfied: toml in /usr/local/lib/python3.6/dist-packages (from streamlit) (0.10.2)\n",
            "Requirement already satisfied: base58 in /usr/local/lib/python3.6/dist-packages (from streamlit) (2.0.1)\n",
            "Requirement already satisfied: requests in /usr/local/lib/python3.6/dist-packages (from streamlit) (2.23.0)\n",
            "Requirement already satisfied: pyarrow in /usr/local/lib/python3.6/dist-packages (from streamlit) (0.14.1)\n",
            "Requirement already satisfied: boto3 in /usr/local/lib/python3.6/dist-packages (from streamlit) (1.16.23)\n",
            "Requirement already satisfied: blinker in /usr/local/lib/python3.6/dist-packages (from streamlit) (1.4)\n",
            "Requirement already satisfied: gitpython in /usr/local/lib/python3.6/dist-packages (from streamlit) (3.1.11)\n",
            "Requirement already satisfied: validators in /usr/local/lib/python3.6/dist-packages (from streamlit) (0.18.1)\n",
            "Requirement already satisfied: altair>=3.2.0 in /usr/local/lib/python3.6/dist-packages (from streamlit) (4.1.0)\n",
            "Requirement already satisfied: pillow>=6.2.0 in /usr/local/lib/python3.6/dist-packages (from streamlit) (7.0.0)\n",
            "Requirement already satisfied: protobuf!=3.11,>=3.6.0 in /usr/local/lib/python3.6/dist-packages (from streamlit) (3.12.4)\n",
            "Requirement already satisfied: numpy in /usr/local/lib/python3.6/dist-packages (from streamlit) (1.18.5)\n",
            "Requirement already satisfied: packaging in /usr/local/lib/python3.6/dist-packages (from streamlit) (20.4)\n",
            "Requirement already satisfied: enum-compat in /usr/local/lib/python3.6/dist-packages (from streamlit) (0.0.3)\n",
            "Requirement already satisfied: pandas>=0.21.0 in /usr/local/lib/python3.6/dist-packages (from streamlit) (1.1.4)\n",
            "Requirement already satisfied: cachetools>=4.0 in /usr/local/lib/python3.6/dist-packages (from streamlit) (4.1.1)\n",
            "Requirement already satisfied: python-dateutil in /usr/local/lib/python3.6/dist-packages (from streamlit) (2.8.1)\n",
            "Requirement already satisfied: click>=7.0 in /usr/local/lib/python3.6/dist-packages (from streamlit) (7.1.2)\n",
            "Requirement already satisfied: watchdog in /usr/local/lib/python3.6/dist-packages (from streamlit) (0.10.4)\n",
            "Requirement already satisfied: botocore>=1.13.44 in /usr/local/lib/python3.6/dist-packages (from streamlit) (1.19.23)\n",
            "Requirement already satisfied: pytz in /usr/local/lib/python3.6/dist-packages (from tzlocal->streamlit) (2018.9)\n",
            "Requirement already satisfied: jinja2>=2.10.1 in /usr/local/lib/python3.6/dist-packages (from pydeck>=0.1.dev5->streamlit) (2.11.2)\n",
            "Requirement already satisfied: ipywidgets>=7.0.0 in /usr/local/lib/python3.6/dist-packages (from pydeck>=0.1.dev5->streamlit) (7.5.1)\n",
            "Requirement already satisfied: traitlets>=4.3.2 in /usr/local/lib/python3.6/dist-packages (from pydeck>=0.1.dev5->streamlit) (4.3.3)\n",
            "Requirement already satisfied: ipykernel>=5.1.2; python_version >= \"3.4\" in /usr/local/lib/python3.6/dist-packages (from pydeck>=0.1.dev5->streamlit) (5.3.4)\n",
            "Requirement already satisfied: chardet<4,>=3.0.2 in /usr/local/lib/python3.6/dist-packages (from requests->streamlit) (3.0.4)\n",
            "Collecting urllib3!=1.25.0,!=1.25.1,<1.26,>=1.21.1\n",
            "\u001b[?25l  Downloading https://files.pythonhosted.org/packages/56/aa/4ef5aa67a9a62505db124a5cb5262332d1d4153462eb8fd89c9fa41e5d92/urllib3-1.25.11-py2.py3-none-any.whl (127kB)\n",
            "\u001b[K     |████████████████████████████████| 133kB 5.7MB/s \n",
            "\u001b[?25hRequirement already satisfied: certifi>=2017.4.17 in /usr/local/lib/python3.6/dist-packages (from requests->streamlit) (2020.6.20)\n",
            "Requirement already satisfied: idna<3,>=2.5 in /usr/local/lib/python3.6/dist-packages (from requests->streamlit) (2.10)\n",
            "Requirement already satisfied: six>=1.0.0 in /usr/local/lib/python3.6/dist-packages (from pyarrow->streamlit) (1.15.0)\n",
            "Requirement already satisfied: jmespath<1.0.0,>=0.7.1 in /usr/local/lib/python3.6/dist-packages (from boto3->streamlit) (0.10.0)\n",
            "Requirement already satisfied: s3transfer<0.4.0,>=0.3.0 in /usr/local/lib/python3.6/dist-packages (from boto3->streamlit) (0.3.3)\n",
            "Requirement already satisfied: gitdb<5,>=4.0.1 in /usr/local/lib/python3.6/dist-packages (from gitpython->streamlit) (4.0.5)\n",
            "Requirement already satisfied: decorator>=3.4.0 in /usr/local/lib/python3.6/dist-packages (from validators->streamlit) (4.4.2)\n",
            "Requirement already satisfied: entrypoints in /usr/local/lib/python3.6/dist-packages (from altair>=3.2.0->streamlit) (0.3)\n",
            "Requirement already satisfied: toolz in /usr/local/lib/python3.6/dist-packages (from altair>=3.2.0->streamlit) (0.11.1)\n",
            "Requirement already satisfied: jsonschema in /usr/local/lib/python3.6/dist-packages (from altair>=3.2.0->streamlit) (2.6.0)\n",
            "Requirement already satisfied: setuptools in /usr/local/lib/python3.6/dist-packages (from protobuf!=3.11,>=3.6.0->streamlit) (50.3.2)\n",
            "Requirement already satisfied: pyparsing>=2.0.2 in /usr/local/lib/python3.6/dist-packages (from packaging->streamlit) (2.4.7)\n",
            "Requirement already satisfied: pathtools>=0.1.1 in /usr/local/lib/python3.6/dist-packages (from watchdog->streamlit) (0.1.2)\n",
            "Requirement already satisfied: MarkupSafe>=0.23 in /usr/local/lib/python3.6/dist-packages (from jinja2>=2.10.1->pydeck>=0.1.dev5->streamlit) (1.1.1)\n",
            "Requirement already satisfied: nbformat>=4.2.0 in /usr/local/lib/python3.6/dist-packages (from ipywidgets>=7.0.0->pydeck>=0.1.dev5->streamlit) (5.0.8)\n",
            "Requirement already satisfied: ipython>=4.0.0; python_version >= \"3.3\" in /usr/local/lib/python3.6/dist-packages (from ipywidgets>=7.0.0->pydeck>=0.1.dev5->streamlit) (5.5.0)\n",
            "Requirement already satisfied: widgetsnbextension~=3.5.0 in /usr/local/lib/python3.6/dist-packages (from ipywidgets>=7.0.0->pydeck>=0.1.dev5->streamlit) (3.5.1)\n",
            "Requirement already satisfied: ipython-genutils in /usr/local/lib/python3.6/dist-packages (from traitlets>=4.3.2->pydeck>=0.1.dev5->streamlit) (0.2.0)\n",
            "Requirement already satisfied: jupyter-client in /usr/local/lib/python3.6/dist-packages (from ipykernel>=5.1.2; python_version >= \"3.4\"->pydeck>=0.1.dev5->streamlit) (5.3.5)\n",
            "Requirement already satisfied: smmap<4,>=3.0.1 in /usr/local/lib/python3.6/dist-packages (from gitdb<5,>=4.0.1->gitpython->streamlit) (3.0.4)\n",
            "Requirement already satisfied: jupyter-core in /usr/local/lib/python3.6/dist-packages (from nbformat>=4.2.0->ipywidgets>=7.0.0->pydeck>=0.1.dev5->streamlit) (4.6.3)\n",
            "Requirement already satisfied: simplegeneric>0.8 in /usr/local/lib/python3.6/dist-packages (from ipython>=4.0.0; python_version >= \"3.3\"->ipywidgets>=7.0.0->pydeck>=0.1.dev5->streamlit) (0.8.1)\n",
            "Requirement already satisfied: pexpect; sys_platform != \"win32\" in /usr/local/lib/python3.6/dist-packages (from ipython>=4.0.0; python_version >= \"3.3\"->ipywidgets>=7.0.0->pydeck>=0.1.dev5->streamlit) (4.8.0)\n",
            "Requirement already satisfied: prompt-toolkit<2.0.0,>=1.0.4 in /usr/local/lib/python3.6/dist-packages (from ipython>=4.0.0; python_version >= \"3.3\"->ipywidgets>=7.0.0->pydeck>=0.1.dev5->streamlit) (1.0.18)\n",
            "Requirement already satisfied: pickleshare in /usr/local/lib/python3.6/dist-packages (from ipython>=4.0.0; python_version >= \"3.3\"->ipywidgets>=7.0.0->pydeck>=0.1.dev5->streamlit) (0.7.5)\n",
            "Requirement already satisfied: pygments in /usr/local/lib/python3.6/dist-packages (from ipython>=4.0.0; python_version >= \"3.3\"->ipywidgets>=7.0.0->pydeck>=0.1.dev5->streamlit) (2.6.1)\n",
            "Requirement already satisfied: notebook>=4.4.1 in /usr/local/lib/python3.6/dist-packages (from widgetsnbextension~=3.5.0->ipywidgets>=7.0.0->pydeck>=0.1.dev5->streamlit) (5.3.1)\n",
            "Requirement already satisfied: pyzmq>=13 in /usr/local/lib/python3.6/dist-packages (from jupyter-client->ipykernel>=5.1.2; python_version >= \"3.4\"->pydeck>=0.1.dev5->streamlit) (19.0.2)\n",
            "Requirement already satisfied: ptyprocess>=0.5 in /usr/local/lib/python3.6/dist-packages (from pexpect; sys_platform != \"win32\"->ipython>=4.0.0; python_version >= \"3.3\"->ipywidgets>=7.0.0->pydeck>=0.1.dev5->streamlit) (0.6.0)\n",
            "Requirement already satisfied: wcwidth in /usr/local/lib/python3.6/dist-packages (from prompt-toolkit<2.0.0,>=1.0.4->ipython>=4.0.0; python_version >= \"3.3\"->ipywidgets>=7.0.0->pydeck>=0.1.dev5->streamlit) (0.2.5)\n",
            "Requirement already satisfied: Send2Trash in /usr/local/lib/python3.6/dist-packages (from notebook>=4.4.1->widgetsnbextension~=3.5.0->ipywidgets>=7.0.0->pydeck>=0.1.dev5->streamlit) (1.5.0)\n",
            "Requirement already satisfied: terminado>=0.8.1 in /usr/local/lib/python3.6/dist-packages (from notebook>=4.4.1->widgetsnbextension~=3.5.0->ipywidgets>=7.0.0->pydeck>=0.1.dev5->streamlit) (0.9.1)\n",
            "Requirement already satisfied: nbconvert in /usr/local/lib/python3.6/dist-packages (from notebook>=4.4.1->widgetsnbextension~=3.5.0->ipywidgets>=7.0.0->pydeck>=0.1.dev5->streamlit) (5.6.1)\n",
            "Requirement already satisfied: pandocfilters>=1.4.1 in /usr/local/lib/python3.6/dist-packages (from nbconvert->notebook>=4.4.1->widgetsnbextension~=3.5.0->ipywidgets>=7.0.0->pydeck>=0.1.dev5->streamlit) (1.4.3)\n",
            "Requirement already satisfied: bleach in /usr/local/lib/python3.6/dist-packages (from nbconvert->notebook>=4.4.1->widgetsnbextension~=3.5.0->ipywidgets>=7.0.0->pydeck>=0.1.dev5->streamlit) (3.2.1)\n",
            "Requirement already satisfied: defusedxml in /usr/local/lib/python3.6/dist-packages (from nbconvert->notebook>=4.4.1->widgetsnbextension~=3.5.0->ipywidgets>=7.0.0->pydeck>=0.1.dev5->streamlit) (0.6.0)\n",
            "Requirement already satisfied: testpath in /usr/local/lib/python3.6/dist-packages (from nbconvert->notebook>=4.4.1->widgetsnbextension~=3.5.0->ipywidgets>=7.0.0->pydeck>=0.1.dev5->streamlit) (0.4.4)\n",
            "Requirement already satisfied: mistune<2,>=0.8.1 in /usr/local/lib/python3.6/dist-packages (from nbconvert->notebook>=4.4.1->widgetsnbextension~=3.5.0->ipywidgets>=7.0.0->pydeck>=0.1.dev5->streamlit) (0.8.4)\n",
            "Requirement already satisfied: webencodings in /usr/local/lib/python3.6/dist-packages (from bleach->nbconvert->notebook>=4.4.1->widgetsnbextension~=3.5.0->ipywidgets>=7.0.0->pydeck>=0.1.dev5->streamlit) (0.5.1)\n",
            "\u001b[31mERROR: google-colab 1.0.0 has requirement ipykernel~=4.10, but you'll have ipykernel 5.3.4 which is incompatible.\u001b[0m\n",
            "\u001b[31mERROR: datascience 0.10.6 has requirement folium==0.2.1, but you'll have folium 0.8.3 which is incompatible.\u001b[0m\n",
            "Installing collected packages: urllib3\n",
            "  Found existing installation: urllib3 1.26.2\n",
            "    Uninstalling urllib3-1.26.2:\n",
            "      Successfully uninstalled urllib3-1.26.2\n",
            "Successfully installed urllib3-1.25.11\n",
            "Requirement already satisfied: pyngrok in /usr/local/lib/python3.6/dist-packages (5.0.0)\n",
            "Requirement already satisfied: PyYAML in /usr/local/lib/python3.6/dist-packages (from pyngrok) (3.13)\n",
            "time: 5.48 s\n"
          ],
          "name": "stdout"
        }
      ]
    },
    {
      "cell_type": "markdown",
      "metadata": {
        "id": "l9sWdH2ahb5Q"
      },
      "source": [
        "**DEPLOY**"
      ]
    },
    {
      "cell_type": "code",
      "metadata": {
        "id": "VcAsA693j5Gx",
        "colab": {
          "base_uri": "https://localhost:8080/"
        },
        "outputId": "ddc9853e-3b3f-44aa-e2b2-d9f1c169c38a"
      },
      "source": [
        "%%writefile app.py\n",
        "import streamlit as st\n",
        "import numpy as np\n",
        "from skimage.io import imread\n",
        "from skimage.transform import resize\n",
        "import pickle \n",
        "from PIL import Image\n",
        "st.set_option('deprecation.showfileUploaderEncoding', False)\n",
        "st.title('Image Classifier -Ramcharan Teja')\n",
        "st.text('Upload the Image')\n",
        "\n",
        "model = pickle.load(open('img_model.p','rb'))\n",
        "\n",
        "uploaded_file = st.file_uploader(\"Choose an image...\", type=\"jpg\")\n",
        "if uploaded_file is not None:\n",
        "  img = Image.open(uploaded_file)\n",
        "  st.image(img,caption='Uploaded Image')\n",
        "\n",
        "  if st.button('PREDICT'):\n",
        "    CATEGORIES = ['Ironman','Spiderman','Hulk']\n",
        "    st.write('Result...')\n",
        "    flat_data=[]\n",
        "    img = np.array(img)\n",
        "    img_resized = resize(img,(150,150,3))\n",
        "    flat_data.append(img_resized.flatten())\n",
        "    flat_data = np.array(flat_data)\n",
        "    y_out = model.predict(flat_data)\n",
        "    y_out = CATEGORIES[y_out[0]]\n",
        "    st.title(f' PREDICTED OUTPUT: {y_out}')\n",
        "    q = model.predict_proba(flat_data)\n",
        "    for index, item in enumerate(CATEGORIES):\n",
        "      st.write(f'{item} : {q[0][index]*100}%')\n"
      ],
      "execution_count": 64,
      "outputs": [
        {
          "output_type": "stream",
          "text": [
            "Overwriting app.py\n",
            "time: 18.2 ms\n"
          ],
          "name": "stdout"
        }
      ]
    },
    {
      "cell_type": "code",
      "metadata": {
        "colab": {
          "base_uri": "https://localhost:8080/"
        },
        "id": "vy3aJZHrX8j1",
        "outputId": "ce09874e-4c5b-4796-f6f8-bba4a105dc37"
      },
      "source": [
        "!streamlit run app.py &>/dev/null&"
      ],
      "execution_count": 77,
      "outputs": [
        {
          "output_type": "stream",
          "text": [
            "time: 121 ms\n"
          ],
          "name": "stdout"
        }
      ]
    },
    {
      "cell_type": "code",
      "metadata": {
        "colab": {
          "base_uri": "https://localhost:8080/"
        },
        "id": "-hdu4HzyYAOk",
        "outputId": "cd497b8d-72cc-4a9f-8737-c8248f06a987"
      },
      "source": [
        "!nohup streamlit run app.py &"
      ],
      "execution_count": 78,
      "outputs": [
        {
          "output_type": "stream",
          "text": [
            "nohup: appending output to 'nohup.out'\n",
            "time: 127 ms\n"
          ],
          "name": "stdout"
        }
      ]
    },
    {
      "cell_type": "code",
      "metadata": {
        "id": "bLVqHc9ikRZD",
        "colab": {
          "base_uri": "https://localhost:8080/"
        },
        "outputId": "9d93d0f1-fa2e-44f0-c2b5-9636ea82f2bc"
      },
      "source": [
        "!pgrep streamlit\n",
        "# Setup a tunnel to the streamlit port 8501\n",
        "public_url = ngrok.connect(port='8501')\n",
        "public_url"
      ],
      "execution_count": 79,
      "outputs": [
        {
          "output_type": "stream",
          "text": [
            "482\n",
            "551\n",
            "566\n",
            "581\n",
            "598\n",
            "631\n",
            "648\n",
            "667\n",
            "734\n",
            "838\n",
            "853\n",
            "866\n"
          ],
          "name": "stdout"
        },
        {
          "output_type": "execute_result",
          "data": {
            "text/plain": [
              "<NgrokTunnel: \"http://bae5f502cbf8.ngrok.io\" -> \"http://localhost:80\">"
            ]
          },
          "metadata": {
            "tags": []
          },
          "execution_count": 79
        },
        {
          "output_type": "stream",
          "text": [
            "time: 383 ms\n"
          ],
          "name": "stdout"
        }
      ]
    },
    {
      "cell_type": "code",
      "metadata": {
        "colab": {
          "base_uri": "https://localhost:8080/"
        },
        "id": "I3mNEDSzYL0G",
        "outputId": "6e3fcc97-6e75-4fd3-fe46-6c60a56ddb5f"
      },
      "source": [
        "ngrok.kill()"
      ],
      "execution_count": 76,
      "outputs": [
        {
          "output_type": "stream",
          "text": [
            "time: 18.3 ms\n"
          ],
          "name": "stdout"
        }
      ]
    }
  ]
}